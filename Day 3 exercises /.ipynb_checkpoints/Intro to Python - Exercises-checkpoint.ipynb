{
 "cells": [
  {
   "cell_type": "markdown",
   "metadata": {},
   "source": [
    "Here you have a collection of guided exercises for the first class on Python. <br>\n",
    "The exercises are divided by topic, following the topics reviewed during the theory session, and for each topic you have some mandatory exercises, and other optional exercises, which you are invited to do if you still have time after the mandatory exercises. <br>\n",
    "\n",
    "Remember that you have 5 hours to solve these exercises, after which we will review the most interesting exercises together. If you don't finish all the exercises, you can work on them tonightor tomorrow. \n",
    "\n",
    "At the end of the class, we will upload the code with the solutions of the exercises so that you can review them again if needed. If you still have not finished some exercises, try to do them first by yourself, before taking a look at the solutions: you are doing these exercises for yourself, so it is always the best to do them your way first, as it is the fastest way to learn!"
   ]
  },
  {
   "cell_type": "markdown",
   "metadata": {},
   "source": [
    "## From Part 1"
   ]
  },
  {
   "cell_type": "markdown",
   "metadata": {},
   "source": [
    "**Exercise 1.1:** The cover price of a book is 24.95 EUR, but bookstores get a 40 percent discount. Shipping costs 3 EUR for the first copy and 75 cents for each additional copy. Calculate the total wholesale costs for 60 copies. "
   ]
  },
  {
   "cell_type": "code",
   "execution_count": 6,
   "metadata": {
    "ExecuteTime": {
     "end_time": "2020-12-02T11:37:51.390534Z",
     "start_time": "2020-12-02T11:37:51.383029Z"
    }
   },
   "outputs": [
    {
     "name": "stdout",
     "output_type": "stream",
     "text": [
      "945.4499999999999\n"
     ]
    },
    {
     "data": {
      "text/plain": [
       "'€945.45'"
      ]
     },
     "execution_count": 6,
     "metadata": {},
     "output_type": "execute_result"
    }
   ],
   "source": [
    "#Your Code Here\n",
    "def wholesale(retail,sh1, sh2, discount, orderNo):\n",
    "    #shipping is sh1 (3) for the first item then sh2 (0.75) for the next 59 \n",
    "    shipping = sh1 + ((orderNo -1) * sh2)\n",
    "    #wholesale unit price is dicsounted by discount of retial price  \n",
    "    unitPrice = retail * (1 - discount)\n",
    "    #add them together \n",
    "    total = unitPrice * orderNo + shipping\n",
    "    # retun the total to 2 decimal places \n",
    "    return \"€%.2f\" % total\n",
    "\n",
    "wholesale(24.95, 3, 0.75, 0.40, 60)"
   ]
  },
  {
   "cell_type": "markdown",
   "metadata": {},
   "source": [
    "**Exercise 1.2:** When something is wrong with your code, Python will raise errors. Often these will be \"syntax errors\" that signal that something is wrong with the form of your code (e.g., the code in the previous exercise raised a `SyntaxError`). There are also \"runtime errors\", which signal that your code was in itself formally correct, but that something went wrong during the code's execution. A good example is the `ZeroDivisionError`, which indicates that you tried to divide a number by zero (which, as you may know, is not allowed). Try to make Python raise such a `ZeroDivisionError`."
   ]
  },
  {
   "cell_type": "code",
   "execution_count": 1,
   "metadata": {
    "ExecuteTime": {
     "end_time": "2020-12-02T09:22:28.241593Z",
     "start_time": "2020-12-02T09:22:28.075598Z"
    }
   },
   "outputs": [
    {
     "ename": "ZeroDivisionError",
     "evalue": "division by zero",
     "output_type": "error",
     "traceback": [
      "\u001b[0;31m---------------------------------------------------------------------------\u001b[0m",
      "\u001b[0;31mZeroDivisionError\u001b[0m                         Traceback (most recent call last)",
      "\u001b[0;32m<ipython-input-1-2057883d57f1>\u001b[0m in \u001b[0;36m<module>\u001b[0;34m\u001b[0m\n\u001b[1;32m      1\u001b[0m \u001b[0;31m#Your Code Here\u001b[0m\u001b[0;34m\u001b[0m\u001b[0;34m\u001b[0m\u001b[0;34m\u001b[0m\u001b[0m\n\u001b[0;32m----> 2\u001b[0;31m \u001b[0mx\u001b[0m \u001b[0;34m=\u001b[0m \u001b[0;36m5\u001b[0m \u001b[0;34m/\u001b[0m\u001b[0;36m0\u001b[0m\u001b[0;34m\u001b[0m\u001b[0;34m\u001b[0m\u001b[0m\n\u001b[0m",
      "\u001b[0;31mZeroDivisionError\u001b[0m: division by zero"
     ]
    }
   ],
   "source": [
    "#Your Code Here\n",
    "x = 5 /0"
   ]
  },
  {
   "cell_type": "markdown",
   "metadata": {},
   "source": [
    "**Exercise 1.3 (🌶️):** You look at the clock and see that it is currently 14.00h. You set an alarm to go off 535 hours later. At what time will the alarm go off? Write a program that prints the answer. Hint: for the best solution, you will need the modulo operator. Second hint: The answer is 21.00h, but of course, this exercise is not about the answer, but about how you get it."
   ]
  },
  {
   "cell_type": "code",
   "execution_count": 10,
   "metadata": {
    "ExecuteTime": {
     "end_time": "2020-12-02T09:36:00.885271Z",
     "start_time": "2020-12-02T09:36:00.880749Z"
    }
   },
   "outputs": [
    {
     "name": "stdout",
     "output_type": "stream",
     "text": [
      "21.00h\n"
     ]
    }
   ],
   "source": [
    "#Your Code Here\n",
    "def alarm(hours):\n",
    "    #the number of days ahead is not something we need to know, as we just want a time x days ahead \n",
    "    #so we find remaning hours left after the days have passed  \n",
    "    r = hours%24\n",
    "    #add the remain hours to 14\n",
    "    time = 14 + r\n",
    "    print(\"%.2fh\" % time)\n",
    "\n",
    "alarm(535)"
   ]
  },
  {
   "cell_type": "markdown",
   "metadata": {},
   "source": [
    "## From Part 4"
   ]
  },
  {
   "cell_type": "markdown",
   "metadata": {},
   "source": [
    "**Exercise 4.1 (🌶️🌶️):** Define a function that receives a string parameter, and returns an integer indicating the count for all the letters of the alphabet that there are in the string. The expected output format is in a **dictionary** with the relevant keys and values. The capital version of a lower case letter is considered to be the same letter.\n",
    "\n",
    "This should sound quite familiar, try to do it without looking at your old code ;)\n",
    "\n",
    "**What is the challenge?**: Don't code 27 times the same line of code, learn how to do things that scale well."
   ]
  },
  {
   "cell_type": "code",
   "execution_count": 11,
   "metadata": {
    "ExecuteTime": {
     "end_time": "2020-12-02T12:11:22.620637Z",
     "start_time": "2020-12-02T12:11:22.612242Z"
    }
   },
   "outputs": [
    {
     "data": {
      "text/plain": [
       "{'a': 2,\n",
       " 'h': 4,\n",
       " 'e': 12,\n",
       " 'r': 5,\n",
       " 'i': 4,\n",
       " 's': 9,\n",
       " 'o': 9,\n",
       " 'm': 5,\n",
       " 't': 10,\n",
       " 'f': 1,\n",
       " 'x': 1,\n",
       " 'p': 1,\n",
       " 'l': 3,\n",
       " 'n': 4,\n",
       " 'g': 1,\n",
       " 'c': 1,\n",
       " 'd': 2,\n",
       " 'w': 2,\n",
       " 'y': 1,\n",
       " 'b': 1}"
      ]
     },
     "execution_count": 11,
     "metadata": {},
     "output_type": "execute_result"
    }
   ],
   "source": [
    "#exercise 4.1 \n",
    "#imported re to help string maninpulation\n",
    "import re\n",
    "\n",
    "exmaple_String = \"Here is some sort of example string to test the code with, with some random!!! ?? : none letter sysmbols 09\"\n",
    "\n",
    "def tidyString(s):\n",
    "    #make the string all lower case and remove all the none letter  \n",
    "    l = s.lower()\n",
    "    str2 = re.sub(\"[^A-Za-z]\", \"\", l)\n",
    "    #count the letters and add to dictionary\n",
    "    return letterCount(str2)\n",
    "    \n",
    "def letterCount(s): \n",
    "    d = {'a':0}\n",
    "    for c in s:\n",
    "        if c in d:\n",
    "            d[c] = d[c] + 1\n",
    "        else:\n",
    "            d[c] = 1\n",
    "    return d\n",
    "    \n",
    "tidyString(exmaple_String)"
   ]
  },
  {
   "cell_type": "markdown",
   "metadata": {},
   "source": [
    "## From Part 5"
   ]
  },
  {
   "cell_type": "code",
   "execution_count": 8,
   "metadata": {},
   "outputs": [
    {
     "data": {
      "text/plain": [
       "'\\nCommented text like this is given as the expected answer.\\nWhen running the cell, you will notice it renders it.\\n\\nCan you come up with a way to keep this in the cell but making sure the print ignores it?\\n'"
      ]
     },
     "execution_count": 8,
     "metadata": {},
     "output_type": "execute_result"
    }
   ],
   "source": [
    "\"\"\"\n",
    "Commented text like this is given as the expected answer.\n",
    "When running the cell, you will notice it renders it.\n",
    "\n",
    "Can you come up with a way to keep this in the cell but making sure the print ignores it?\n",
    "\"\"\""
   ]
  },
  {
   "cell_type": "markdown",
   "metadata": {},
   "source": [
    "**Exercise 5.1**: Create a countdown function that starts at a certain count, and counts down to zero. Instead of zero, print \"Blast off!\". Use a `for` loop. \n",
    "\n"
   ]
  },
  {
   "cell_type": "code",
   "execution_count": 12,
   "metadata": {
    "ExecuteTime": {
     "end_time": "2020-12-02T12:17:04.663149Z",
     "start_time": "2020-12-02T12:17:04.655820Z"
    }
   },
   "outputs": [
    {
     "name": "stdout",
     "output_type": "stream",
     "text": [
      "15\n",
      "14\n",
      "13\n",
      "12\n",
      "11\n",
      "10\n",
      "9\n",
      "8\n",
      "7\n",
      "6\n",
      "5\n",
      "4\n",
      "3\n",
      "2\n",
      "1\n",
      "Blast off!\n"
     ]
    }
   ],
   "source": [
    "\"\"\"\n",
    "20\n",
    "19\n",
    "18\n",
    "17\n",
    "16\n",
    "15\n",
    "14\n",
    "13\n",
    "12\n",
    "11\n",
    "10\n",
    "9\n",
    "8\n",
    "7\n",
    "6\n",
    "5\n",
    "4\n",
    "3\n",
    "2\n",
    "1\n",
    "Blast off!\n",
    "\"\"\"\n",
    "# Countdown\n",
    "def countDown(startNum):\n",
    "    #using a for loop to loop through a range with a step of -1 to count down. \n",
    "    for num in range(startNum,0, -1):\n",
    "        print(num)\n",
    "    print(\"Blast off!\")\n",
    "\n",
    "countDown(15)"
   ]
  },
  {
   "cell_type": "markdown",
   "metadata": {},
   "source": [
    "**Exercise 5.2:** Write and test three functions that return the largest, the smallest, and the number of dividables by 3 in a given collection of numbers. Use the algorithm described earlier in the Part 5 lecture :)\n",
    "\n"
   ]
  },
  {
   "cell_type": "code",
   "execution_count": 14,
   "metadata": {
    "ExecuteTime": {
     "end_time": "2020-12-02T12:20:13.273166Z",
     "start_time": "2020-12-02T12:20:13.266198Z"
    }
   },
   "outputs": [
    {
     "name": "stdout",
     "output_type": "stream",
     "text": [
      "100\n",
      "2\n",
      "4\n"
     ]
    }
   ],
   "source": [
    "\"\"\"\n",
    "a = [2, 4, 6, 12, 15, 99, 100]\n",
    "100\n",
    "2\n",
    "4\n",
    "\"\"\"\n",
    "# Your functions\n",
    "a = [2, 4, 6, 12, 15, 99, 100]\n",
    "def largest(a):\n",
    "    return max(a)\n",
    "\n",
    "def smallest(a):\n",
    "    return min(a)\n",
    "\n",
    "def divsables(a):\n",
    "    divs = []\n",
    "    for x in a:\n",
    "        if x % 3 == 0:\n",
    "            divs.append(x)\n",
    "    return len(divs)\n",
    "\n",
    "print(largest(a))\n",
    "print(smallest(a))\n",
    "print(divsables(a))"
   ]
  },
  {
   "cell_type": "markdown",
   "metadata": {},
   "source": [
    "**Exercise 5.4 (🌶️):** \"99 bottles of beer\" is a traditional song in the United States and Canada. It is popular to sing on long trips, as it has a very repetitive format which is easy to memorize, and can take a long time to sing. The song's simple lyrics are as follows: \"99 bottles of beer on the wall, 99 bottles of beer. Take one down, pass it around, 98 bottles of beer on the wall.\" The same verse is repeated, each time with one fewer bottle. The song is completed when the singer or singers reach zero. Write a function that generates and prints all the verses of the song (though you might start a bit lower, for instance with 10 bottles). Make sure that your loop is not endless, and that you use the proper inflection for the word \"bottle\"."
   ]
  },
  {
   "cell_type": "code",
   "execution_count": 15,
   "metadata": {
    "ExecuteTime": {
     "end_time": "2020-12-02T12:29:19.276739Z",
     "start_time": "2020-12-02T12:29:19.270512Z"
    }
   },
   "outputs": [
    {
     "name": "stdout",
     "output_type": "stream",
     "text": [
      "10 bottles of beer on the wall, 10 bottles of beer. Take one down, pass it around, 9 bottles of beer on the wall\n",
      "9 bottles of beer on the wall, 9 bottles of beer. Take one down, pass it around, 8 bottles of beer on the wall\n",
      "8 bottles of beer on the wall, 8 bottles of beer. Take one down, pass it around, 7 bottles of beer on the wall\n",
      "7 bottles of beer on the wall, 7 bottles of beer. Take one down, pass it around, 6 bottles of beer on the wall\n",
      "6 bottles of beer on the wall, 6 bottles of beer. Take one down, pass it around, 5 bottles of beer on the wall\n",
      "5 bottles of beer on the wall, 5 bottles of beer. Take one down, pass it around, 4 bottles of beer on the wall\n",
      "4 bottles of beer on the wall, 4 bottles of beer. Take one down, pass it around, 3 bottles of beer on the wall\n",
      "3 bottles of beer on the wall, 3 bottles of beer. Take one down, pass it around, 2 bottles of beer on the wall\n",
      "2 bottles of beer on the wall, 2 bottles of beer. Take one down, pass it around, 1 bottles of beer on the wall\n",
      "1 bottle of beer on the wall, 1 bottle of beer. Take one down, pass it around, 0 bottles of beer on the wall\n"
     ]
    }
   ],
   "source": [
    "\"\"\"\n",
    "5 bottles of beer on the wall, 5 bottles of beer. Take one down, pass it around, 4 bottles of beer in the wall\n",
    "4 bottles of beer on the wall, 4 bottles of beer. Take one down, pass it around, 3 bottles of beer in the wall\n",
    "3 bottles of beer on the wall, 3 bottles of beer. Take one down, pass it around, 2 bottles of beer in the wall\n",
    "2 bottles of beer on the wall, 2 bottles of beer. Take one down, pass it around, 1 bottle of beer in the wall\n",
    "1 bottle of beer on the wall, 1 bottle of beer. Take one down, pass it around, 0 bottles of beer in the wall\n",
    "\"\"\"\n",
    "\n",
    "# Beer song\n",
    "def beerSong(numVerses):\n",
    "    i = numVerses\n",
    "    while i > 0:\n",
    "        if i != 1:\n",
    "            s = \"{} bottles of beer on the wall, {} bottles of beer. Take one down, pass it around, {} bottles of beer on the wall\"\n",
    "            print(s.format(i,i,i-1))\n",
    "        else: \n",
    "            s = \"{} bottle of beer on the wall, {} bottle of beer. Take one down, pass it around, {} bottles of beer on the wall\"\n",
    "            print(s.format(i,i,i-1))\n",
    "        i -= 1 \n",
    "beerSong(10) "
   ]
  },
  {
   "cell_type": "markdown",
   "metadata": {},
   "source": [
    "**Exercise 5.5 (🌶️):** The Fibonacci sequence is a sequence of numbers that starts with 1, followed by 1 again. Every next number is the sum of the two previous numbers. I.e., the sequence starts with 1, 1, 2, 3, 5, 8, 13, 21,... Write a function that calculates and prints the Fibonacci sequence until the numbers get higher than a `maximum`."
   ]
  },
  {
   "cell_type": "code",
   "execution_count": 19,
   "metadata": {
    "ExecuteTime": {
     "end_time": "2020-12-02T12:40:22.720281Z",
     "start_time": "2020-12-02T12:40:22.712783Z"
    }
   },
   "outputs": [
    {
     "name": "stdout",
     "output_type": "stream",
     "text": [
      "[0, 1, 1, 2, 3, 5, 8, 13, 21, 34]\n",
      "[0, 1, 1, 2, 3, 5, 8, 13, 21]\n"
     ]
    }
   ],
   "source": [
    "\"\"\"\n",
    "Fibonacci sequence up to 22 :\n",
    "0 , 1 , 1 , 2 , 3 , 5 , 8 , 13 , 21\n",
    "\"\"\"\n",
    "# Fibonacci\n",
    "#this one stops once higher then the max \n",
    "def fib(maxNum):\n",
    "    l = [0,1]\n",
    "    while max(l) <= maxNum:\n",
    "        x = l[len(l)-1] + l[len(l)-2]\n",
    "        l.append(x)\n",
    "    return l\n",
    "\n",
    "#this one stops at last number before max \n",
    "def fibAtMax(maxNum):\n",
    "    l = [0,1]\n",
    "    while max(l) <= maxNum:\n",
    "        x = l[len(l)-1] + l[len(l)-2]\n",
    "        if x <= maxNum:\n",
    "            l.append(x)\n",
    "        else: \n",
    "            break\n",
    "    return l\n",
    "\n",
    "\n",
    "print(fib(22))\n",
    "print(fibAtMax(22))"
   ]
  },
  {
   "cell_type": "markdown",
   "metadata": {},
   "source": [
    "**Exercise 5.6 (🌶️🌶️):** A prime number is a positive integer that is dividable by exactly two different numbers, namely 1 and itself. The lowest (and only even) prime number is 2. The first 10 prime numbers are 2, 3, 5, 7, 11, 13, 17, 19, 23, and 29. Write a function that returns a **list off all prime numbers** below a given number.\n",
    "\n",
    "Hint: In a loop where you test the possible dividers of the number, you can conclude that the number is not prime as soon as you encounter a number other than 1 or the number itself that divides it. However, you can *only* conclude that it actually *is* prime after you have tested all possible dividers.\n",
    "\n",
    "**What is the challenge here? You have to try to optimize your code and try to make it work for the highest prime number you can encounter before you run out of memory. For low numbers you should know how to do it already**"
   ]
  },
  {
   "cell_type": "code",
   "execution_count": 1,
   "metadata": {
    "ExecuteTime": {
     "end_time": "2020-12-03T11:41:17.414416Z",
     "start_time": "2020-12-03T11:41:17.397975Z"
    }
   },
   "outputs": [
    {
     "data": {
      "text/plain": [
       "'658212332255445555211545565165156136512315616513212517568545345343534343373435463334343432 is not a Prime'"
      ]
     },
     "execution_count": 1,
     "metadata": {},
     "output_type": "execute_result"
    }
   ],
   "source": [
    "def primeNums(num):\n",
    "    l = []\n",
    "    for x in range(2,num):\n",
    "        if num % x == 0:\n",
    "            s = \"{} is not a Prime\"\n",
    "            return s.format(num)\n",
    "        else:\n",
    "            l.append(x)\n",
    "            s = \"{} is a prime number\"\n",
    "            return s.format(num)\n",
    "        print(l)\n",
    "primeNums(658212332255445555211545565165156136512315616513212517568545345343534343373435463334343432)"
   ]
  },
  {
   "cell_type": "markdown",
   "metadata": {},
   "source": [
    "**Exercise 5.7 (🌶️🌶️):** Write a function that prints all integers between the parameters `a` and `b` that can be written as the sum of two squares. Produce output in the form of `z = x**2 + y**2`, e.g., `58 = 3**2 + 7**2`. If a number occurs on the list with multiple *different* ways of writing it as the sum of two squares, that is acceptable. "
   ]
  },
  {
   "cell_type": "code",
   "execution_count": 47,
   "metadata": {
    "ExecuteTime": {
     "end_time": "2020-12-02T14:16:34.555424Z",
     "start_time": "2020-12-02T14:16:34.540816Z"
    }
   },
   "outputs": [
    {
     "data": {
      "text/plain": [
       "['1 = 1**2 + 0**2',\n",
       " '2 = 1**2 + 1**2',\n",
       " '4 = 2**2 + 0**2',\n",
       " '5 = 2**2 + 1**2',\n",
       " '8 = 2**2 + 2**2',\n",
       " '9 = 3**2 + 0**2']"
      ]
     },
     "execution_count": 47,
     "metadata": {},
     "output_type": "execute_result"
    }
   ],
   "source": [
    "import math\n",
    "\"\"\"\n",
    "2 = 1**2 + 1**2\n",
    "4 = 0**2 + 2**2\n",
    "4 = 2**2 + 0**2\n",
    "5 = 1**2 + 2**2\n",
    "5 = 2**2 + 1**2\n",
    "8 = 2**2 + 2**2\n",
    "9 = 0**2 + 3**2\n",
    "9 = 3**2 + 0**2\n",
    "\"\"\"\n",
    "\n",
    "# Sum squares\n",
    "\n",
    "def loopAtoB(a,b):\n",
    "    ls = []\n",
    "    lsr = []\n",
    "    for x in range(a,b):\n",
    "        ls.append(findSqSum(x))\n",
    "    for x in ls:\n",
    "        if x != \"\":\n",
    "            lsr.append(x)\n",
    "    return lsr\n",
    "\n",
    "def findSqSum(x):\n",
    "    wholes = []\n",
    "    for y in range (x):\n",
    "        left = y**2\n",
    "        c = x-left\n",
    "        if c > 0:\n",
    "            w =  math.sqrt(c)\n",
    "            ws = str(w)\n",
    "            #print(ws)\n",
    "            wss= ws.split(\".\")\n",
    "            if wss[1] == \"0\":\n",
    "                wholes.append(int(w))\n",
    "    return printOutput(wholes, x)\n",
    "\n",
    "def printOutput(l, x):\n",
    "    output = \"\"\n",
    "    if len(l) >= 2:\n",
    "        string = \"{} = {}**2 + {}**2\"\n",
    "        output = string.format(x,l[0],l[1])\n",
    "        \n",
    "    elif len(l) == 1:\n",
    "        if l[0]**2 == x:\n",
    "            string = \"{} = {}**2 + {}**2\"\n",
    "            output = string.format(x,l[0],0)\n",
    "        else:\n",
    "            string = \"{} = {}**2 + {}**2\"\n",
    "            output = string.format(x,l[0],l[0])\n",
    "    \n",
    "    return output   \n",
    "loopAtoB(0,10)"
   ]
  },
  {
   "cell_type": "markdown",
   "metadata": {},
   "source": [
    "**Exercise 5.8 (🌶️):** A, B, C, and D are all different digits. The number DCBA is equal to 4 times the number ABCD. What are the digits? Note: to make ABCD and DCBA conventional numbers, neither A nor D can be zero. Use a quadruple-nested loop."
   ]
  },
  {
   "cell_type": "code",
   "execution_count": 17,
   "metadata": {
    "ExecuteTime": {
     "end_time": "2020-12-02T13:48:34.084046Z",
     "start_time": "2020-12-02T13:48:34.073452Z"
    }
   },
   "outputs": [
    {
     "data": {
      "text/plain": [
       "'a=2 b=1 c=7 d=8'"
      ]
     },
     "execution_count": 17,
     "metadata": {},
     "output_type": "execute_result"
    }
   ],
   "source": [
    "\"\"\"\n",
    "A = 2\n",
    "B = 1\n",
    "C = 7\n",
    "D = 8\n",
    "\"\"\"\n",
    "# Solve 4*ABCD == DCBA\n",
    "#full discolsure we found the explination for this task on stack overflow \n",
    "#https://stackoverflow.com/questions/46567273/solve-4abcd-dcba-in-python#46567412\n",
    "def solve():\n",
    "    for a in range(1,9):\n",
    "        for b in range(0,9):\n",
    "            for c in range(0,9):\n",
    "               for d in range(1,9):\n",
    "                #check if they divide by 4 \n",
    "                x = (1000 * a + 100 * b + 10 * c + d)\n",
    "                y = (a + 10 * b + 100 * c + 1000 * d)\n",
    "                if 4 * x == y:\n",
    "                    return \"a=%d b=%d c=%d d=%d\" % (a, b, c, d)\n",
    "\n",
    "solve()\n",
    "            "
   ]
  },
  {
   "cell_type": "markdown",
   "metadata": {},
   "source": []
  }
 ],
 "metadata": {
  "kernelspec": {
   "display_name": "Python 3",
   "language": "python",
   "name": "python3"
  },
  "language_info": {
   "codemirror_mode": {
    "name": "ipython",
    "version": 3
   },
   "file_extension": ".py",
   "mimetype": "text/x-python",
   "name": "python",
   "nbconvert_exporter": "python",
   "pygments_lexer": "ipython3",
   "version": "3.8.3"
  }
 },
 "nbformat": 4,
 "nbformat_minor": 2
}
